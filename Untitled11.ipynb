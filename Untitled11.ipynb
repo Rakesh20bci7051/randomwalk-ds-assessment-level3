{
  "nbformat": 4,
  "nbformat_minor": 0,
  "metadata": {
    "colab": {
      "provenance": [],
      "mount_file_id": "14mkpAQehFZbYeHaCNJhXbFpmnOR8dBKp",
      "authorship_tag": "ABX9TyMO99NUSCqHnL+XBXi6Arnk",
      "include_colab_link": true
    },
    "kernelspec": {
      "name": "python3",
      "display_name": "Python 3"
    },
    "language_info": {
      "name": "python"
    }
  },
  "cells": [
    {
      "cell_type": "markdown",
      "metadata": {
        "id": "view-in-github",
        "colab_type": "text"
      },
      "source": [
        "<a href=\"https://colab.research.google.com/github/Rakesh20bci7051/randomwalk-ds-assessment-level3/blob/main/Untitled11.ipynb\" target=\"_parent\"><img src=\"https://colab.research.google.com/assets/colab-badge.svg\" alt=\"Open In Colab\"/></a>"
      ]
    },
    {
      "cell_type": "code",
      "execution_count": 1,
      "metadata": {
        "id": "kB-KjM3eGq1n"
      },
      "outputs": [],
      "source": [
        "#import the libararies\n",
        "import numpy as np\n",
        "import pandas as pd"
      ]
    },
    {
      "cell_type": "code",
      "source": [
        "#import the dataset\n",
        "data=pd.read_csv('/content/drive/MyDrive/books.csv',encoding='latin-1')"
      ],
      "metadata": {
        "id": "AtXS0PSnILfI"
      },
      "execution_count": 3,
      "outputs": []
    },
    {
      "cell_type": "markdown",
      "source": [
        "How many books do not have an original title [books.csv]?"
      ],
      "metadata": {
        "id": "sFeaVUGAIbRR"
      }
    },
    {
      "cell_type": "code",
      "source": [
        "\n",
        "\n",
        "#  Number of books without an original title\n",
        "number_of_book = data['original_title'].isnull().sum()\n",
        "\n",
        "print(' Number of books without an original title' ,number_of_book)"
      ],
      "metadata": {
        "colab": {
          "base_uri": "https://localhost:8080/"
        },
        "id": "6p4zEWcfJDfo",
        "outputId": "06dc8a67-4a35-412b-d091-ff409cc80896"
      },
      "execution_count": 4,
      "outputs": [
        {
          "output_type": "stream",
          "name": "stdout",
          "text": [
            " Number of books without an original title 36\n"
          ]
        }
      ]
    },
    {
      "cell_type": "markdown",
      "source": [
        "How many unique books are present in the dataset ? Evaluate based on the 'book_id' after removing records containing null values for original_title column in [books.csv] and corresponding records in [book_tags.csv] and [ratings.csv]"
      ],
      "metadata": {
        "id": "BYtBLT54J4fj"
      }
    },
    {
      "cell_type": "code",
      "source": [
        "\n",
        "\n",
        "\n",
        "# Remove records with null values\n",
        "books_df = data.dropna(subset=['original_title'])\n",
        "\n",
        "\n",
        "booktag_data = pd.read_csv('/content/drive/MyDrive/Colab Notebooks/book_tags.csv')\n",
        "ratings_data = pd.read_csv('/content/drive/MyDrive/Colab Notebooks/ratings.csv')\n",
        "\n",
        "\n",
        "# Merge 'books_df' with 'book_tags_df' based on 'goodreads_book_id'\n",
        "merged_df = pd.merge(books_df, booktag_data, left_on='goodreads_book_id', right_on='goodreads_book_id')\n",
        "\n",
        "# Count the number of unique books based on 'goodreads_book_id'\n",
        "count = merged_df['goodreads_book_id'].nunique()\n",
        "count\n",
        "\n",
        "\n"
      ],
      "metadata": {
        "colab": {
          "base_uri": "https://localhost:8080/"
        },
        "id": "bTPMh56NJr6h",
        "outputId": "94998939-08ec-411b-e16c-ce12f6710175"
      },
      "execution_count": 9,
      "outputs": [
        {
          "output_type": "execute_result",
          "data": {
            "text/plain": [
              "363"
            ]
          },
          "metadata": {},
          "execution_count": 9
        }
      ]
    },
    {
      "cell_type": "markdown",
      "source": [
        "How many unique users are present in the dataset [ratings.csv] ?"
      ],
      "metadata": {
        "id": "rpWNBMn5NEh4"
      }
    },
    {
      "cell_type": "code",
      "source": [
        "\n",
        "\n",
        "# Count the number of unique users based on 'user_id'\n",
        "UNIQUE_USER = ratings_data['user_id'].nunique()\n",
        "\n",
        "print('The number of unique users in the rating dataset are',UNIQUE_USER)\n"
      ],
      "metadata": {
        "colab": {
          "base_uri": "https://localhost:8080/"
        },
        "id": "DyQFilANLJvQ",
        "outputId": "2e6772d8-6379-4689-9364-4561e2c8ed7c"
      },
      "execution_count": 10,
      "outputs": [
        {
          "output_type": "stream",
          "name": "stdout",
          "text": [
            "The number of unique users in the rating dataset are 40836\n"
          ]
        }
      ]
    },
    {
      "cell_type": "markdown",
      "source": [
        "4.How many unique tags are there in the dataset [book_tags.csv] ?"
      ],
      "metadata": {
        "id": "qjLnytbVNxCn"
      }
    },
    {
      "cell_type": "code",
      "source": [
        "\n",
        "\n",
        "# Count the number of unique tags based on 'tag_id'\n",
        "tag_count = booktag_data['tag_id'].nunique()\n",
        "\n",
        "tag_count"
      ],
      "metadata": {
        "colab": {
          "base_uri": "https://localhost:8080/"
        },
        "id": "Xg0lCjzeNhp_",
        "outputId": "17c6eabc-9263-436e-b8f3-0ded46eb32ac"
      },
      "execution_count": 11,
      "outputs": [
        {
          "output_type": "execute_result",
          "data": {
            "text/plain": [
              "3651"
            ]
          },
          "metadata": {},
          "execution_count": 11
        }
      ]
    },
    {
      "cell_type": "markdown",
      "source": [
        "**5.Which tag_id is the most frequently used ie. mapped with the highest number of books [book_tags.csv] ? (In case of more than one tag, mention the tag id with the least numerical value)’.**"
      ],
      "metadata": {
        "id": "W-dLskl3OF6D"
      }
    },
    {
      "cell_type": "code",
      "source": [
        "# Group by tag_id and count the number of books for each tag\n",
        "tag_count = booktag_data.groupby('tag_id')['count'].sum()\n",
        "\n",
        "# Find the tag_id with the highest count\n",
        "highest= tag_count.idxmax()\n",
        "\n",
        "print(' Tag_id is the most frequently used ie. mapped with the highest number of books [book_tags.csv]',highest)"
      ],
      "metadata": {
        "colab": {
          "base_uri": "https://localhost:8080/"
        },
        "id": "8OPYj_2WOALP",
        "outputId": "661087df-adfa-4b83-9e3a-9ff239de0beb"
      },
      "execution_count": 14,
      "outputs": [
        {
          "output_type": "stream",
          "name": "stdout",
          "text": [
            " Tag_id is the most frequently used ie. mapped with the highest number of books [book_tags.csv] 30574\n"
          ]
        }
      ]
    },
    {
      "cell_type": "markdown",
      "source": [
        "**6.Which book (title) has the most number of counts of tags given by the user [book_tags.csv,books.csv] .**"
      ],
      "metadata": {
        "id": "BRuDNywAOzpC"
      }
    },
    {
      "cell_type": "code",
      "source": [
        "\n",
        "# Merge 'books_df' with 'book_tags_df' based on 'goodreads_book_id'\n",
        "merged_data = pd.merge(data, booktag_data, left_on='goodreads_book_id', right_on='goodreads_book_id')\n",
        "\n",
        "# Group by book title and calculate the sum of tag counts for each book\n",
        "book_tag_counts = merged_df.groupby('title')['count'].sum()\n",
        "\n",
        "# Find the book title with the most number of tag counts\n",
        "ans= book_tag_counts.idxmax()\n",
        "\n",
        "print('The most number of counts of tags given by the user [book_tags.csv,books.csv] ',ans)\n"
      ],
      "metadata": {
        "colab": {
          "base_uri": "https://localhost:8080/"
        },
        "id": "cyQXxAWHOcSN",
        "outputId": "feaa2d08-bd9b-49f9-d4f9-ecb0a09c2b7f"
      },
      "execution_count": 15,
      "outputs": [
        {
          "output_type": "stream",
          "name": "stdout",
          "text": [
            "The most number of counts of tags given by the user [book_tags.csv,books.csv]  Bossypants\n"
          ]
        }
      ]
    },
    {
      "cell_type": "markdown",
      "source": [
        "7.**Plot a bar chart with top 20 unique tags in descending order of ‘user records’ (the number of users tagged the given tag_id with the goodreads_book_id) [book_tags.csv]**"
      ],
      "metadata": {
        "id": "tB78C1NEPp6L"
      }
    },
    {
      "cell_type": "code",
      "source": [
        "\n",
        "import matplotlib.pyplot as plt\n",
        "\n",
        "# Group by tag_id and calculate the number of unique users for each tag\n",
        "tag_data = booktag_data.groupby('tag_id')['goodreads_book_id'].nunique()\n",
        "\n",
        "# Sort the data\n",
        "sorted_data = tag_data.sort_values(ascending=False)\n",
        "\n",
        "# Select the top 20 tags\n",
        "top_20_tags = sorted_data.head(20)\n",
        "\n",
        "# Plot the bar chart\n",
        "plt.figure(figsize=(20, 10))\n",
        "top_20_tags.plot(kind='bar', color='red')\n",
        "plt.title('Top 20 Tags Based on User Records')\n",
        "plt.xlabel('tag_id')\n",
        "plt.ylabel('Number of User Record')\n",
        "plt.xticks(rotation=45)\n",
        "plt.show()\n"
      ],
      "metadata": {
        "colab": {
          "base_uri": "https://localhost:8080/",
          "height": 828
        },
        "id": "qGmBLv2bPcRI",
        "outputId": "21b7e14e-81c3-4a62-f8ab-ccce4f9d46e4"
      },
      "execution_count": 16,
      "outputs": [
        {
          "output_type": "display_data",
          "data": {
            "text/plain": [
              "<Figure size 2000x1000 with 1 Axes>"
            ],
            "image/png": "[encoded data removed]"
          },
          "metadata": {}
        }
      ]
    },
    {
      "cell_type": "code",
      "source": [],
      "metadata": {
        "id": "fKqH2fb7QPpR"
      },
      "execution_count": null,
      "outputs": []
    }
  ]
}